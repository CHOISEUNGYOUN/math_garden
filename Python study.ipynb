{
 "cells": [
  {
   "cell_type": "code",
   "execution_count": 10,
   "metadata": {},
   "outputs": [],
   "source": [
    "# Instances of CheeseBrand will be the Flyweights\n",
    "class CheeseBrand:\n",
    "    def __init__(self, brand, cost):\n",
    "        self.brand = brand\n",
    "        self.cost = cost\n",
    "        self._immutable = True  # Disables future attributions\n",
    "\n",
    "    def __setattr__(self, name, value):\n",
    "        if getattr(self, '_immutable', False):  # Allow initial attribution\n",
    "            raise RuntimeError('This object is immutable')\n",
    "        else:\n",
    "            super().__setattr__(name, value)\n",
    "    \n",
    "\n",
    "class CheeseShop:\n",
    "    menu = {}  # Shared container to access the Flyweights\n",
    "    \n",
    "    def __init__(self):\n",
    "        self.orders = {}  # per-instance container with private attributes\n",
    "\n",
    "    def stock_cheese(self, brand, cost):\n",
    "        cheese = CheeseBrand(brand, cost)\n",
    "        self.menu[brand] = cheese  # Shared Flyweight\n",
    "\n",
    "    def sell_cheese(self, brand, units):\n",
    "        self.orders.setdefault(brand, 0)\n",
    "        self.orders[brand] += units  # Instance attribute\n",
    "\n",
    "    def total_units_sold(self):\n",
    "        return sum(self.orders.values())\n",
    "    \n",
    "    def total_income(self):\n",
    "        income = 0\n",
    "        for brand, units in self.orders.items():\n",
    "            income += self.menu[brand].cost * units\n",
    "        return income\n"
   ]
  },
  {
   "cell_type": "code",
   "execution_count": 17,
   "metadata": {},
   "outputs": [],
   "source": [
    "shop1 = CheeseShop()\n",
    "shop2 = CheeseShop()\n",
    "\n",
    "shop1.stock_cheese('white', 1.25)\n",
    "shop1.stock_cheese('blue', 3.75)\n",
    "# Now every CheeseShop have 'white' and 'blue' on the inventory\n",
    "# The SAME 'white' and 'blue' CheeseBrand\n",
    "\n",
    "shop1.sell_cheese('blue', 3)   # Both can sell\n",
    "shop2.sell_cheese('blue', 8)   # But the units sold are stored per-instance\n",
    "\n",
    "assert shop1.total_units_sold() == 3\n",
    "assert shop1.total_income() == 3.75 * 3\n",
    "\n",
    "assert shop2.total_units_sold() == 8\n",
    "assert shop2.total_income() == 3.75 * 8"
   ]
  },
  {
   "cell_type": "code",
   "execution_count": 20,
   "metadata": {},
   "outputs": [
    {
     "data": {
      "text/plain": [
       "30.0"
      ]
     },
     "execution_count": 20,
     "metadata": {},
     "output_type": "execute_result"
    }
   ],
   "source": [
    "shop2.total_income()"
   ]
  },
  {
   "cell_type": "code",
   "execution_count": 22,
   "metadata": {},
   "outputs": [
    {
     "data": {
      "text/plain": [
       "11.25"
      ]
     },
     "execution_count": 22,
     "metadata": {},
     "output_type": "execute_result"
    }
   ],
   "source": [
    "shop1.total_income()"
   ]
  },
  {
   "cell_type": "code",
   "execution_count": 23,
   "metadata": {},
   "outputs": [],
   "source": [
    "from abc import ABC, abstractmethod\n",
    "from collections import namedtuple\n",
    "\n",
    "Customer = namedtuple('Customer', 'name fidelity')\n",
    "\n",
    "class LineItem:\n",
    "    def __init__(self, product, quantity, price):\n",
    "        self.product = product\n",
    "        self.quantity = quantity\n",
    "        self.price = price\n",
    "    def total(self):\n",
    "        return self.price * self.quantity\n",
    "class Order: # the Context\n",
    "    def __init__(self, customer, cart, promotion=None):\n",
    "        self.customer = customer\n",
    "        self.cart = list(cart)\n",
    "        self.promotion = promotion\n",
    "    def total(self):\n",
    "        if not hasattr(self, '__total'):\n",
    "            self.__total = sum(item.total() for item in self.cart)\n",
    "            return self.__total\n",
    "    def due(self):\n",
    "        if self.promotion is None:\n",
    "            discount = 0\n",
    "        else:\n",
    "            discount = self.promotion.discount(self)\n",
    "        return self.total() - discount\n",
    "    def __repr__(self):\n",
    "        fmt = '<Order total: {:.2f} due: {:.2f}>'\n",
    "        return fmt.format(self.total(), self.due())\n",
    "class Promotion(ABC): # the Strategy: an abstract base class\n",
    "    @abstractmethod\n",
    "    def discount(self, order):\n",
    "        \"\"\"Return discount as a positive dollar amount\"\"\"\n",
    "class FidelityPromo(Promotion): # first Concrete Strategy\n",
    "    \"\"\"5% discount for customers with 1000 or more fidelity points\"\"\"\n",
    "    def discount(self, order):\n",
    "        return order.total() * .05 if order.customer.fidelity >= 1000 else 0\n",
    "class BulkItemPromo(Promotion): # second Concrete Strategy\n",
    "    \"\"\"10% discount for each LineItem with 20 or more units\"\"\"\n",
    "    def discount(self, order):\n",
    "        discount = 0\n",
    "        for item in order.cart:\n",
    "            if item.quantity >= 20:\n",
    "                discount += item.total() * .1\n",
    "        return discount\n",
    "class LargeOrderPromo(Promotion): # third Concrete Strategy\n",
    "    \"\"\"7% discount for orders with 10 or more distinct items\"\"\"\n",
    "    def discount(self, order):\n",
    "        distinct_items = {item.product for item in order.cart}\n",
    "        if len(distinct_items) >= 10:\n",
    "            return order.total() * .07\n",
    "        return 0"
   ]
  },
  {
   "cell_type": "code",
   "execution_count": 40,
   "metadata": {},
   "outputs": [],
   "source": [
    "Customer = namedtuple('Customer', 'name fidelity')\n",
    "\n",
    "class LineItem:\n",
    "\n",
    "    def __init__(self, product, quantity, price):\n",
    "        self.product = product\n",
    "        self.quantity = quantity\n",
    "        self.price = price\n",
    "\n",
    "    def total(self):\n",
    "        return self.price * self.quantity\n",
    "\n",
    "\n",
    "class Order:\n",
    "\n",
    "    def __init__(self, customer, cart, promotion=None):\n",
    "        self.customer = customer\n",
    "        self.cart = list(cart)\n",
    "        self.promotion = promotion\n",
    "\n",
    "    def total(self):\n",
    "\n",
    "        if not hasattr(self, '__total'):\n",
    "            self.__total = sum(item.total() for item in self.cart)\n",
    "        return self.__total\n",
    "\n",
    "    def due(self):\n",
    "        if self.promotion is None:\n",
    "            discount = 0\n",
    "        else:\n",
    "            discount = self.promotion(self)\n",
    "        return self.total() - discount\n",
    "\n",
    "    def __repr__(self):\n",
    "        fmt = '<Order total: {:.2f} due: {:.2f}>'\n",
    "        return fmt.format(self.total(), self.due())\n",
    "\n",
    "def fidelity_promo(order):\n",
    "    \"\"\"5% discount for customers with 1000 or more fidelity points\"\"\"\n",
    "    return order.total() * .05 if order.customer.fidelity >= 1000 else 0\n",
    "\n",
    "def bulk_item_promo(order):\n",
    "    \"\"\"10% discount for each LineItem with 20 or more units\"\"\"\n",
    "    discount = 0\n",
    "    for item in order.cart:\n",
    "        if item.quantity >= 20:\n",
    "            discount += item.total() * .1\n",
    "    return discount\n",
    "\n",
    "def large_order_promo(order):\n",
    "    \"\"\"7% discount for orders with 10 or more distinct items\"\"\"\n",
    "    distinct_items = {item.product for item in order.cart}\n",
    "\n",
    "    if len(distinct_items) >= 10:\n",
    "        return order.total() * .07\n",
    "\n",
    "    return 0\n"
   ]
  },
  {
   "cell_type": "code",
   "execution_count": 25,
   "metadata": {},
   "outputs": [],
   "source": [
    "joe = Customer('John Doe', 0)\n",
    "ann = Customer('Ann Smith', 1100)\n",
    "cart = [LineItem(\"banana\",4,.5),\n",
    "        LineItem(\"apple\",10,1.5),\n",
    "        LineItem(\"watermellon\",5,5.0)\n",
    "       ]"
   ]
  },
  {
   "cell_type": "code",
   "execution_count": 26,
   "metadata": {},
   "outputs": [
    {
     "data": {
      "text/plain": [
       "<Order total: 42.00 due: 42.00>"
      ]
     },
     "execution_count": 26,
     "metadata": {},
     "output_type": "execute_result"
    }
   ],
   "source": [
    "Order(joe, cart, FidelityPromo())"
   ]
  },
  {
   "cell_type": "code",
   "execution_count": 27,
   "metadata": {},
   "outputs": [
    {
     "data": {
      "text/plain": [
       "<Order total: 42.00 due: 39.90>"
      ]
     },
     "execution_count": 27,
     "metadata": {},
     "output_type": "execute_result"
    }
   ],
   "source": [
    "Order(ann, cart, FidelityPromo())"
   ]
  },
  {
   "cell_type": "code",
   "execution_count": 28,
   "metadata": {},
   "outputs": [],
   "source": [
    "banana_cart = [LineItem('banana', 30, .5),\n",
    "              LineItem('apple',10, 1.5)\n",
    "              ]"
   ]
  },
  {
   "cell_type": "code",
   "execution_count": 29,
   "metadata": {},
   "outputs": [
    {
     "data": {
      "text/plain": [
       "<Order total: 30.00 due: 28.50>"
      ]
     },
     "execution_count": 29,
     "metadata": {},
     "output_type": "execute_result"
    }
   ],
   "source": [
    "Order(joe, banana_cart, BulkItemPromo())"
   ]
  },
  {
   "cell_type": "code",
   "execution_count": 30,
   "metadata": {},
   "outputs": [],
   "source": [
    "long_order = [LineItem(str(item_code), 1, 10)\n",
    "             for item_code in range(10)\n",
    "             ]"
   ]
  },
  {
   "cell_type": "code",
   "execution_count": 31,
   "metadata": {},
   "outputs": [
    {
     "data": {
      "text/plain": [
       "<Order total: 100.00 due: 93.00>"
      ]
     },
     "execution_count": 31,
     "metadata": {},
     "output_type": "execute_result"
    }
   ],
   "source": [
    "Order(joe, long_order, LargeOrderPromo())"
   ]
  },
  {
   "cell_type": "code",
   "execution_count": 38,
   "metadata": {},
   "outputs": [
    {
     "data": {
      "text/plain": [
       "<Order total: 42.00 due: 42.00>"
      ]
     },
     "execution_count": 38,
     "metadata": {},
     "output_type": "execute_result"
    }
   ],
   "source": [
    "Order(joe, cart, LargeOrderPromo())"
   ]
  },
  {
   "cell_type": "code",
   "execution_count": 10,
   "metadata": {},
   "outputs": [
    {
     "data": {
      "text/plain": [
       "'52'"
      ]
     },
     "execution_count": 10,
     "metadata": {},
     "output_type": "execute_result"
    }
   ],
   "source": [
    "\"{}\".format(52, 273)"
   ]
  },
  {
   "cell_type": "code",
   "execution_count": 11,
   "metadata": {},
   "outputs": [
    {
     "data": {
      "text/plain": [
       "5"
      ]
     },
     "execution_count": 11,
     "metadata": {},
     "output_type": "execute_result"
    }
   ],
   "source": [
    " len(\"안녕하세요\")"
   ]
  },
  {
   "cell_type": "code",
   "execution_count": null,
   "metadata": {},
   "outputs": [],
   "source": []
  }
 ],
 "metadata": {
  "kernelspec": {
   "display_name": "Python 3",
   "language": "python",
   "name": "python3"
  },
  "language_info": {
   "codemirror_mode": {
    "name": "ipython",
    "version": 3
   },
   "file_extension": ".py",
   "mimetype": "text/x-python",
   "name": "python",
   "nbconvert_exporter": "python",
   "pygments_lexer": "ipython3",
   "version": "3.7.5"
  }
 },
 "nbformat": 4,
 "nbformat_minor": 2
}
